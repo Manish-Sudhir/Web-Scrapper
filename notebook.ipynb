{
 "cells": [
  {
   "cell_type": "code",
   "execution_count": 2,
   "metadata": {},
   "outputs": [],
   "source": [
    "from selenium import webdriver\n",
    "from selenium.webdriver.common.keys import Keys\n",
    "from selenium.webdriver.common.by import By\n",
    "from selenium.webdriver.support.ui import WebDriverWait\n",
    "from selenium.webdriver.support import expected_conditions as EC\n",
    "from selenium.webdriver.common.action_chains import ActionChains\n",
    "from selenium.webdriver.common.keys import Keys\n",
    "from webdriver_manager.chrome import ChromeDriverManager\n",
    "\n",
    "from utils.mal import PlayerScrapper\n",
    "import time\n",
    "\n",
    "bot = PlayerScrapper()\n",
    "bot.accept_cookies()\n",
    "links = bot.search_team('PSG')"
   ]
  },
  {
   "cell_type": "code",
   "execution_count": 7,
   "metadata": {},
   "outputs": [
    {
     "name": "stdout",
     "output_type": "stream",
     "text": [
      "99\n",
      "1\n",
      "16\n",
      "90\n",
      "70\n",
      "5\n",
      "3\n",
      "24\n",
      "22\n",
      "4\n",
      "31\n",
      "25\n",
      "14\n",
      "20\n",
      "34\n",
      "2\n",
      "26\n",
      "-\n",
      "8\n",
      "15\n",
      "33\n",
      "6\n",
      "17\n",
      "18\n",
      "27\n",
      "21\n",
      "12\n",
      "28\n",
      "36\n",
      "38\n",
      "35\n",
      "10\n",
      "23\n",
      "30\n",
      "19\n",
      "7\n",
      "44\n",
      "9\n",
      "43\n"
     ]
    }
   ],
   "source": [
    "kit_numbers = bot.driver.find_elements(By.XPATH, '//table[@class=\"items\"]/tbody/tr/td[1]')\n",
    "\n",
    "for k in kit_numbers:\n",
    "    print(k.text)"
   ]
  },
  {
   "cell_type": "code",
   "execution_count": 11,
   "metadata": {},
   "outputs": [
    {
     "ename": "TypeError",
     "evalue": "'WebElement' object is not iterable",
     "output_type": "error",
     "traceback": [
      "\u001b[1;31m---------------------------------------------------------------------------\u001b[0m",
      "\u001b[1;31mTypeError\u001b[0m                                 Traceback (most recent call last)",
      "\u001b[1;32mc:\\Users\\Q\\Documents\\Scrapper\\notebook.ipynb Cell 3\u001b[0m in \u001b[0;36m<cell line: 3>\u001b[1;34m()\u001b[0m\n\u001b[0;32m      <a href='vscode-notebook-cell:/c%3A/Users/Q/Documents/Scrapper/notebook.ipynb#W2sZmlsZQ%3D%3D?line=0'>1</a>\u001b[0m kit_numbers \u001b[39m=\u001b[39m bot\u001b[39m.\u001b[39mget_info()\n\u001b[1;32m----> <a href='vscode-notebook-cell:/c%3A/Users/Q/Documents/Scrapper/notebook.ipynb#W2sZmlsZQ%3D%3D?line=2'>3</a>\u001b[0m \u001b[39mfor\u001b[39;00m k \u001b[39min\u001b[39;00m kit_numbers:\n\u001b[0;32m      <a href='vscode-notebook-cell:/c%3A/Users/Q/Documents/Scrapper/notebook.ipynb#W2sZmlsZQ%3D%3D?line=3'>4</a>\u001b[0m     \u001b[39mprint\u001b[39m(k\u001b[39m.\u001b[39mtext)\n",
      "\u001b[1;31mTypeError\u001b[0m: 'WebElement' object is not iterable"
     ]
    }
   ],
   "source": [
    "\n",
    "kit_numbers = bot.get_info()\n",
    "\n",
    "for k in kit_numbers:\n",
    "    print(k.text)"
   ]
  }
 ],
 "metadata": {
  "kernelspec": {
   "display_name": "Python 3.10.4 ('scrapper')",
   "language": "python",
   "name": "python3"
  },
  "language_info": {
   "codemirror_mode": {
    "name": "ipython",
    "version": 3
   },
   "file_extension": ".py",
   "mimetype": "text/x-python",
   "name": "python",
   "nbconvert_exporter": "python",
   "pygments_lexer": "ipython3",
   "version": "3.10.4"
  },
  "orig_nbformat": 4,
  "vscode": {
   "interpreter": {
    "hash": "f6b336d919c43e4941c4efa577a5c815f2acd4149bd93942a69cf5730562d498"
   }
  }
 },
 "nbformat": 4,
 "nbformat_minor": 2
}
